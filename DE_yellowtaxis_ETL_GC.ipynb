{
 "cells": [
  {
   "cell_type": "markdown",
   "metadata": {},
   "source": [
    "DOCUMENTO PARA AUTOMATIZAR EL PROCESO DE ETL , DATOS DE YELLOW TAXIS"
   ]
  },
  {
   "cell_type": "markdown",
   "metadata": {},
   "source": [
    "ETL del archivo yellowtaxis_final.csv  -- PARA GOOGLE CLOUD"
   ]
  },
  {
   "cell_type": "markdown",
   "metadata": {},
   "source": [
    "Librerias a importar"
   ]
  },
  {
   "cell_type": "code",
   "execution_count": 1,
   "metadata": {},
   "outputs": [],
   "source": [
    "# Librerias para el proceso de Webscraping\n",
    "\n",
    "import re\n",
    "from colorama import Fore\n",
    "import requests\n",
    "import urllib.request"
   ]
  },
  {
   "cell_type": "code",
   "execution_count": 2,
   "metadata": {},
   "outputs": [],
   "source": [
    "# Librerias del proceso de ETL y reduccion\n",
    "\n",
    "import os\n",
    "import pandas as pd\n",
    "import numpy as np\n",
    "from datetime import datetime\n",
    "import pyarrow.parquet as pq"
   ]
  },
  {
   "cell_type": "markdown",
   "metadata": {},
   "source": [
    "----"
   ]
  },
  {
   "cell_type": "code",
   "execution_count": 3,
   "metadata": {},
   "outputs": [],
   "source": [
    "path = \"Data/yellowtaxis_final.csv\"\n",
    "\n",
    "data = pd.read_csv(path)"
   ]
  },
  {
   "cell_type": "code",
   "execution_count": 10,
   "metadata": {},
   "outputs": [],
   "source": [
    "yellow_taxis = data.copy()"
   ]
  },
  {
   "cell_type": "markdown",
   "metadata": {},
   "source": [
    "----"
   ]
  },
  {
   "cell_type": "markdown",
   "metadata": {},
   "source": [
    "# WEBSCRAPING"
   ]
  },
  {
   "cell_type": "markdown",
   "metadata": {},
   "source": [
    "# COLOCAR WEBCRAPING PARA EL GOOGLE CLOUD"
   ]
  },
  {
   "cell_type": "code",
   "execution_count": null,
   "metadata": {},
   "outputs": [],
   "source": [
    "#La web la que queremos scrappear\n",
    "website = \"https://www.nyc.gov/site/tlc/about/tlc-trip-record-data.page\"\n",
    "#Hacemos una peticion al sitio web que seleccionamos\n",
    "resultado = requests.get(website)\n",
    "#Convertimos el resultado a texto\n",
    "content = resultado.text\n",
    "#Para hacer webscrapping tengo que encontrar en el codigo de html de la pagina un patron en comun que tengan\n",
    "#las cosas que quiero extraer [\\w-]*.* detecta todo lo que va despues de lo que asignamos en patron\n",
    "patron = r'<a\\s+href=\"(.*?/trip-data/yellow_tripdata[^\"]*)\"'\n",
    "#Queremos buscar con la expresion regular del patron dentro de content\n",
    "maquinas = re.findall(patron, str(content))\n",
    "#En caso de haber duplicados debemos hacer lo siguiente:\n",
    "#sin_duplicados = list(set(maquinas_repetidas))\n",
    "# Debemos dejar solamente el nombre ejemplo tenemos 'data-answer=\"faq2023\" class=\"faq-questions\" y debe estar solo faq2023\n",
    "\n",
    "\n",
    "maquinas_final = []\n",
    "nombre_archivos = []\n",
    "for i in maquinas:\n",
    "    if int(i[64:68]) > 2018 and int(i[64:68]) <= 2023:\n",
    "        maquinas_final.append(i)\n",
    "        nombre_archivos.append(i[48:79])\n",
    "        print(i)\n",
    "\n",
    "nombre_archivos"
   ]
  },
  {
   "cell_type": "code",
   "execution_count": null,
   "metadata": {},
   "outputs": [],
   "source": [
    "# for a, b in zip(maquinas_final, nombre_archivos):\n",
    "    urllib.request.urlretrieve(a, b)"
   ]
  },
  {
   "cell_type": "markdown",
   "metadata": {},
   "source": [
    "# Fin del WebScraping"
   ]
  },
  {
   "cell_type": "markdown",
   "metadata": {},
   "source": [
    "-----\n",
    "---\n",
    "---"
   ]
  },
  {
   "cell_type": "markdown",
   "metadata": {},
   "source": [
    "# Reduccion del data set al 5%"
   ]
  },
  {
   "cell_type": "code",
   "execution_count": 9,
   "metadata": {},
   "outputs": [],
   "source": [
    "def reducir_archivo_taxis(carpeta_origen, carpeta_destino):\n",
    "    # Carpeta_origen, es la ruta de dicha carpeta\n",
    "    # Carpeta_destino, es la ruta de la carpeta a ser guardado\n",
    "\n",
    "    # Obtener la lista de archivos Parquet en la carpeta de origen\n",
    "    archivos_parquet = [archivo for archivo in os.listdir(carpeta_origen) if archivo.endswith('.parquet')]\n",
    "\n",
    "    # Iterar sobre cada archivo Parquet\n",
    "    for archivo in archivos_parquet:\n",
    "        ruta_parquet = os.path.join(carpeta_origen, archivo)\n",
    "\n",
    "        # Leer el archivo Parquet y convertirlo a DataFrame\n",
    "        tabla_parquet = pq.read_table(ruta_parquet)\n",
    "        dataframe = tabla_parquet.to_pandas()\n",
    "\n",
    "        # Realizar las operaciones necesarias en el DataFrame\n",
    "        dataframe = dataframe.sample(frac=0.05, random_state=123).reset_index(drop=True)\n",
    "\n",
    "        # Crear la ruta para el archivo de salida en la carpeta destino\n",
    "        ruta_parquet_destino = os.path.join(carpeta_destino, archivo)\n",
    "\n",
    "        # Guardar el DataFrame\n",
    "        dataframe.to_parquet(ruta_parquet_destino, index=False)"
   ]
  },
  {
   "cell_type": "code",
   "execution_count": 10,
   "metadata": {},
   "outputs": [],
   "source": [
    "carpeta_origen = 'Data/taxis'\n",
    "carpeta_destino = 'Data/taxis/Reducido' \n",
    "reducir_archivo_taxis(carpeta_origen, carpeta_destino)"
   ]
  },
  {
   "cell_type": "markdown",
   "metadata": {},
   "source": [
    "----"
   ]
  },
  {
   "cell_type": "markdown",
   "metadata": {},
   "source": [
    "# Generar la union de los data sets"
   ]
  },
  {
   "cell_type": "code",
   "execution_count": null,
   "metadata": {},
   "outputs": [],
   "source": []
  },
  {
   "cell_type": "code",
   "execution_count": null,
   "metadata": {},
   "outputs": [],
   "source": []
  },
  {
   "cell_type": "code",
   "execution_count": null,
   "metadata": {},
   "outputs": [],
   "source": []
  },
  {
   "cell_type": "markdown",
   "metadata": {},
   "source": [
    "----\n",
    "---\n",
    "---"
   ]
  },
  {
   "cell_type": "markdown",
   "metadata": {},
   "source": [
    "# ETL DEL DATA SET DE YELLOW TAXIS"
   ]
  },
  {
   "cell_type": "code",
   "execution_count": 12,
   "metadata": {},
   "outputs": [],
   "source": [
    "# Convertir las columnas en tipo de dato str a fecha y hora\n",
    "\n",
    "yellow_taxis[\"tpep_pickup_datetime\"] = pd.to_datetime(yellow_taxis[\"tpep_pickup_datetime\"], format='%Y-%m-%d %H:%M:%S')\n",
    "yellow_taxis[\"tpep_dropoff_datetime\"] = pd.to_datetime(yellow_taxis[\"tpep_dropoff_datetime\"], format='%Y-%m-%d %H:%M:%S')\n",
    "\n",
    "# Crea Columna nueva\n",
    "yellow_taxis[\"trip_datatime\"] = yellow_taxis[\"tpep_dropoff_datetime\"] - yellow_taxis[\"tpep_pickup_datetime\"]"
   ]
  },
  {
   "cell_type": "markdown",
   "metadata": {},
   "source": [
    "----"
   ]
  },
  {
   "cell_type": "markdown",
   "metadata": {},
   "source": [
    "Columna VendorID <br>\n",
    "Segun el diccionario no existen ID mayor a 2 <br>\n",
    "Se dejan por que no aporta nada"
   ]
  },
  {
   "cell_type": "markdown",
   "metadata": {},
   "source": [
    "----"
   ]
  },
  {
   "cell_type": "markdown",
   "metadata": {},
   "source": [
    "Columna tpep_pickup_datetime <br>\n",
    "Elimino los campos que son menor al año 2019"
   ]
  },
  {
   "cell_type": "code",
   "execution_count": 13,
   "metadata": {},
   "outputs": [],
   "source": [
    "# Filtrar los campos donde el año sea menor a 2019 y eliminar esas filas del DataFrame\n",
    "yellow_taxis = yellow_taxis[yellow_taxis[\"tpep_pickup_datetime\"].dt.year >= 2019]"
   ]
  },
  {
   "cell_type": "markdown",
   "metadata": {},
   "source": [
    "Columna tpep_dropoff_datetime <br>\n",
    "Elimino los campos que son menor al año 2019"
   ]
  },
  {
   "cell_type": "code",
   "execution_count": 14,
   "metadata": {},
   "outputs": [],
   "source": [
    "# Filtrar los campos donde el año sea menor a 2019 y eliminar esas filas del DataFrame\n",
    "yellow_taxis = yellow_taxis[yellow_taxis[\"tpep_dropoff_datetime\"].dt.year >= 2019]"
   ]
  },
  {
   "cell_type": "code",
   "execution_count": 15,
   "metadata": {},
   "outputs": [],
   "source": [
    "# Dividir la columna tpep_pickup_datetime en fecha y hora\n",
    "yellow_taxis['pickup_date'] = pd.to_datetime(yellow_taxis['tpep_pickup_datetime']).dt.date\n",
    "yellow_taxis['pickup_time'] = pd.to_datetime(yellow_taxis['tpep_pickup_datetime']).dt.time\n",
    "\n",
    "# Dividir la columna tpep_dropoff_datetime en fecha y hora\n",
    "yellow_taxis['dropoff_date'] = pd.to_datetime(yellow_taxis['tpep_dropoff_datetime']).dt.date\n",
    "yellow_taxis['dropoff_time'] = pd.to_datetime(yellow_taxis['tpep_dropoff_datetime']).dt.time\n",
    "\n",
    "# Dividir la columna tpep_dropoff_datetime en fecha y hora\n",
    "yellow_taxis['trip_daystime'] = pd.to_datetime(yellow_taxis['tpep_dropoff_datetime']).dt.date\n",
    "yellow_taxis['trip_datatime'] = pd.to_datetime(yellow_taxis['tpep_dropoff_datetime']).dt.time\n",
    "\n",
    "\n",
    "# Eliminar las columnas originales si así lo deseas\n",
    "yellow_taxis.drop(['tpep_pickup_datetime', 'tpep_dropoff_datetime', 'trip_daystime' ], axis=1, inplace=True)"
   ]
  },
  {
   "cell_type": "code",
   "execution_count": 17,
   "metadata": {},
   "outputs": [
    {
     "data": {
      "text/html": [
       "<div>\n",
       "<style scoped>\n",
       "    .dataframe tbody tr th:only-of-type {\n",
       "        vertical-align: middle;\n",
       "    }\n",
       "\n",
       "    .dataframe tbody tr th {\n",
       "        vertical-align: top;\n",
       "    }\n",
       "\n",
       "    .dataframe thead th {\n",
       "        text-align: right;\n",
       "    }\n",
       "</style>\n",
       "<table border=\"1\" class=\"dataframe\">\n",
       "  <thead>\n",
       "    <tr style=\"text-align: right;\">\n",
       "      <th></th>\n",
       "      <th>VendorID</th>\n",
       "      <th>passenger_count</th>\n",
       "      <th>trip_distance</th>\n",
       "      <th>RatecodeID</th>\n",
       "      <th>store_and_fwd_flag</th>\n",
       "      <th>PULocationID</th>\n",
       "      <th>DOLocationID</th>\n",
       "      <th>payment_type</th>\n",
       "      <th>fare_amount</th>\n",
       "      <th>extra</th>\n",
       "      <th>...</th>\n",
       "      <th>improvement_surcharge</th>\n",
       "      <th>total_amount</th>\n",
       "      <th>congestion_surcharge</th>\n",
       "      <th>airport_fee</th>\n",
       "      <th>Airport_fee</th>\n",
       "      <th>trip_datatime</th>\n",
       "      <th>pickup_date</th>\n",
       "      <th>pickup_time</th>\n",
       "      <th>dropoff_date</th>\n",
       "      <th>dropoff_time</th>\n",
       "    </tr>\n",
       "  </thead>\n",
       "  <tbody>\n",
       "    <tr>\n",
       "      <th>0</th>\n",
       "      <td>1</td>\n",
       "      <td>1.0</td>\n",
       "      <td>4.40</td>\n",
       "      <td>1.0</td>\n",
       "      <td>N</td>\n",
       "      <td>239</td>\n",
       "      <td>234</td>\n",
       "      <td>1</td>\n",
       "      <td>18.0</td>\n",
       "      <td>2.5</td>\n",
       "      <td>...</td>\n",
       "      <td>0.3</td>\n",
       "      <td>25.56</td>\n",
       "      <td>2.5</td>\n",
       "      <td>NaN</td>\n",
       "      <td>NaN</td>\n",
       "      <td>08:44:03</td>\n",
       "      <td>2019-04-18</td>\n",
       "      <td>08:20:22</td>\n",
       "      <td>2019-04-18</td>\n",
       "      <td>08:44:03</td>\n",
       "    </tr>\n",
       "    <tr>\n",
       "      <th>1</th>\n",
       "      <td>2</td>\n",
       "      <td>3.0</td>\n",
       "      <td>2.96</td>\n",
       "      <td>1.0</td>\n",
       "      <td>N</td>\n",
       "      <td>161</td>\n",
       "      <td>79</td>\n",
       "      <td>1</td>\n",
       "      <td>11.0</td>\n",
       "      <td>0.5</td>\n",
       "      <td>...</td>\n",
       "      <td>0.3</td>\n",
       "      <td>17.76</td>\n",
       "      <td>2.5</td>\n",
       "      <td>NaN</td>\n",
       "      <td>NaN</td>\n",
       "      <td>21:33:29</td>\n",
       "      <td>2019-04-15</td>\n",
       "      <td>21:21:29</td>\n",
       "      <td>2019-04-15</td>\n",
       "      <td>21:33:29</td>\n",
       "    </tr>\n",
       "    <tr>\n",
       "      <th>2</th>\n",
       "      <td>2</td>\n",
       "      <td>3.0</td>\n",
       "      <td>0.96</td>\n",
       "      <td>1.0</td>\n",
       "      <td>N</td>\n",
       "      <td>114</td>\n",
       "      <td>125</td>\n",
       "      <td>1</td>\n",
       "      <td>8.0</td>\n",
       "      <td>0.0</td>\n",
       "      <td>...</td>\n",
       "      <td>0.3</td>\n",
       "      <td>14.12</td>\n",
       "      <td>2.5</td>\n",
       "      <td>NaN</td>\n",
       "      <td>NaN</td>\n",
       "      <td>14:46:15</td>\n",
       "      <td>2019-04-05</td>\n",
       "      <td>14:35:47</td>\n",
       "      <td>2019-04-05</td>\n",
       "      <td>14:46:15</td>\n",
       "    </tr>\n",
       "    <tr>\n",
       "      <th>3</th>\n",
       "      <td>2</td>\n",
       "      <td>1.0</td>\n",
       "      <td>0.91</td>\n",
       "      <td>1.0</td>\n",
       "      <td>N</td>\n",
       "      <td>239</td>\n",
       "      <td>238</td>\n",
       "      <td>1</td>\n",
       "      <td>5.5</td>\n",
       "      <td>1.0</td>\n",
       "      <td>...</td>\n",
       "      <td>0.3</td>\n",
       "      <td>11.76</td>\n",
       "      <td>2.5</td>\n",
       "      <td>NaN</td>\n",
       "      <td>NaN</td>\n",
       "      <td>19:54:02</td>\n",
       "      <td>2019-04-01</td>\n",
       "      <td>19:49:33</td>\n",
       "      <td>2019-04-01</td>\n",
       "      <td>19:54:02</td>\n",
       "    </tr>\n",
       "    <tr>\n",
       "      <th>4</th>\n",
       "      <td>1</td>\n",
       "      <td>1.0</td>\n",
       "      <td>1.50</td>\n",
       "      <td>1.0</td>\n",
       "      <td>N</td>\n",
       "      <td>68</td>\n",
       "      <td>142</td>\n",
       "      <td>2</td>\n",
       "      <td>9.0</td>\n",
       "      <td>3.0</td>\n",
       "      <td>...</td>\n",
       "      <td>0.3</td>\n",
       "      <td>12.80</td>\n",
       "      <td>2.5</td>\n",
       "      <td>NaN</td>\n",
       "      <td>NaN</td>\n",
       "      <td>20:14:37</td>\n",
       "      <td>2019-04-27</td>\n",
       "      <td>20:03:50</td>\n",
       "      <td>2019-04-27</td>\n",
       "      <td>20:14:37</td>\n",
       "    </tr>\n",
       "  </tbody>\n",
       "</table>\n",
       "<p>5 rows × 23 columns</p>\n",
       "</div>"
      ],
      "text/plain": [
       "   VendorID  passenger_count  trip_distance  RatecodeID store_and_fwd_flag  \\\n",
       "0         1              1.0           4.40         1.0                  N   \n",
       "1         2              3.0           2.96         1.0                  N   \n",
       "2         2              3.0           0.96         1.0                  N   \n",
       "3         2              1.0           0.91         1.0                  N   \n",
       "4         1              1.0           1.50         1.0                  N   \n",
       "\n",
       "   PULocationID  DOLocationID  payment_type  fare_amount  extra  ...  \\\n",
       "0           239           234             1         18.0    2.5  ...   \n",
       "1           161            79             1         11.0    0.5  ...   \n",
       "2           114           125             1          8.0    0.0  ...   \n",
       "3           239           238             1          5.5    1.0  ...   \n",
       "4            68           142             2          9.0    3.0  ...   \n",
       "\n",
       "   improvement_surcharge  total_amount  congestion_surcharge  airport_fee  \\\n",
       "0                    0.3         25.56                   2.5          NaN   \n",
       "1                    0.3         17.76                   2.5          NaN   \n",
       "2                    0.3         14.12                   2.5          NaN   \n",
       "3                    0.3         11.76                   2.5          NaN   \n",
       "4                    0.3         12.80                   2.5          NaN   \n",
       "\n",
       "   Airport_fee  trip_datatime  pickup_date  pickup_time dropoff_date  \\\n",
       "0          NaN       08:44:03   2019-04-18     08:20:22   2019-04-18   \n",
       "1          NaN       21:33:29   2019-04-15     21:21:29   2019-04-15   \n",
       "2          NaN       14:46:15   2019-04-05     14:35:47   2019-04-05   \n",
       "3          NaN       19:54:02   2019-04-01     19:49:33   2019-04-01   \n",
       "4          NaN       20:14:37   2019-04-27     20:03:50   2019-04-27   \n",
       "\n",
       "  dropoff_time  \n",
       "0     08:44:03  \n",
       "1     21:33:29  \n",
       "2     14:46:15  \n",
       "3     19:54:02  \n",
       "4     20:14:37  \n",
       "\n",
       "[5 rows x 23 columns]"
      ]
     },
     "execution_count": 17,
     "metadata": {},
     "output_type": "execute_result"
    }
   ],
   "source": [
    "yellow_taxis.head()"
   ]
  },
  {
   "cell_type": "markdown",
   "metadata": {},
   "source": [
    "---"
   ]
  },
  {
   "cell_type": "markdown",
   "metadata": {},
   "source": [
    "Columna passenger_count <br>\n",
    "Hay muchos viajes con mas de 4 pasajeros, seran los vehiculos tipo SUV o parecidos con mas capacidad. <br>\n",
    "No hay outliers"
   ]
  },
  {
   "cell_type": "code",
   "execution_count": 7,
   "metadata": {},
   "outputs": [],
   "source": [
    "# Eliminar filas con valores nulos en la columna 'passenger_count'\n",
    "yellow_taxis = yellow_taxis.dropna(subset=['passenger_count'])"
   ]
  },
  {
   "cell_type": "markdown",
   "metadata": {},
   "source": [
    "La columna con pasajeros igual a CERO, no tiene sentido. <br>\n",
    "Le asigno valores , interpolando con los datos existentes, como dato tipo int"
   ]
  },
  {
   "cell_type": "code",
   "execution_count": 8,
   "metadata": {},
   "outputs": [],
   "source": [
    "# Convertir 0s a NaNs en la columna 'passenger_count' utilizando .loc[]\n",
    "yellow_taxis.loc[yellow_taxis['passenger_count'] == 0, 'passenger_count'] = np.nan"
   ]
  },
  {
   "cell_type": "code",
   "execution_count": 9,
   "metadata": {},
   "outputs": [],
   "source": [
    "# Interpolar valores nulos en la columna 'passenger_count'\n",
    "yellow_taxis.loc[:, 'passenger_count'] = yellow_taxis['passenger_count'].interpolate(method='linear')\n",
    "\n",
    "# Convertir la columna 'passenger_count' a tipo entero\n",
    "yellow_taxis['passenger_count'] = yellow_taxis['passenger_count'].astype(int)\n"
   ]
  },
  {
   "cell_type": "markdown",
   "metadata": {},
   "source": [
    "----\n",
    "Columna trip_distance, no se le hace nada"
   ]
  },
  {
   "cell_type": "markdown",
   "metadata": {},
   "source": [
    "Columna RateCode ID"
   ]
  },
  {
   "cell_type": "markdown",
   "metadata": {},
   "source": [
    "Hay datos que no se identifican con ninguno del diccionario! <br>\n",
    "\n",
    "---"
   ]
  },
  {
   "cell_type": "markdown",
   "metadata": {},
   "source": [
    "Columna store_and_fwd_flag <br>\n",
    "Se elimina por poco utilidad"
   ]
  },
  {
   "cell_type": "code",
   "execution_count": 10,
   "metadata": {},
   "outputs": [],
   "source": [
    "yellow_taxis.drop('store_and_fwd_flag', axis=1, inplace=True)"
   ]
  },
  {
   "cell_type": "markdown",
   "metadata": {},
   "source": [
    "----"
   ]
  },
  {
   "cell_type": "markdown",
   "metadata": {},
   "source": [
    "Columna Fare amount <br> \n",
    "Tiene outliers menores a 0 y algunos valores muy altos <br>\n",
    "Los valores mayores a 100.000 se borran y los negativos tmb <br>\n",
    "Filtro todas estas variables con columna \"total amount\""
   ]
  },
  {
   "cell_type": "markdown",
   "metadata": {},
   "source": [
    "Columna MTA_tax <br>\n",
    "Hay valores menores a 0 <br>\n",
    "Lo trabajo con columna \"total amount\""
   ]
  },
  {
   "cell_type": "markdown",
   "metadata": {},
   "source": [
    "----"
   ]
  },
  {
   "cell_type": "markdown",
   "metadata": {},
   "source": [
    "Columna improvement_surcharge <br>\n",
    "Oscila entre -1 a 1"
   ]
  },
  {
   "cell_type": "markdown",
   "metadata": {},
   "source": [
    "---"
   ]
  },
  {
   "cell_type": "markdown",
   "metadata": {},
   "source": [
    "Columna total_amount"
   ]
  },
  {
   "cell_type": "code",
   "execution_count": 13,
   "metadata": {},
   "outputs": [],
   "source": [
    "filtro_total_amount_mayores = yellow_taxis['total_amount'] > 10000\n",
    "# total_amount_mayores = yellow_taxis[filtro_total_amount_mayores]\n",
    "\n",
    "# Eliminar las filas con valores mayor a 100000\n",
    "yellow_taxis = yellow_taxis.drop(yellow_taxis[filtro_total_amount_mayores].index)"
   ]
  },
  {
   "cell_type": "code",
   "execution_count": 14,
   "metadata": {},
   "outputs": [],
   "source": [
    "# Eliminar las filas que tienen total amount negativos\n",
    "yellow_taxis = yellow_taxis.drop(yellow_taxis[yellow_taxis['total_amount'] < 0].index)"
   ]
  },
  {
   "cell_type": "markdown",
   "metadata": {},
   "source": [
    "----"
   ]
  },
  {
   "cell_type": "code",
   "execution_count": null,
   "metadata": {},
   "outputs": [],
   "source": []
  },
  {
   "cell_type": "code",
   "execution_count": null,
   "metadata": {},
   "outputs": [],
   "source": []
  },
  {
   "cell_type": "code",
   "execution_count": null,
   "metadata": {},
   "outputs": [],
   "source": []
  },
  {
   "cell_type": "markdown",
   "metadata": {},
   "source": [
    "----\n",
    "----\n",
    "----\n",
    "# VER !!!\n"
   ]
  },
  {
   "cell_type": "markdown",
   "metadata": {},
   "source": [
    "# hacer la division de fechas y horas en las columnas"
   ]
  },
  {
   "cell_type": "markdown",
   "metadata": {},
   "source": [
    "# Fin del ETL"
   ]
  },
  {
   "cell_type": "markdown",
   "metadata": {},
   "source": [
    "----"
   ]
  },
  {
   "cell_type": "markdown",
   "metadata": {},
   "source": [
    "# Carga de los datos a BIG QUERY"
   ]
  },
  {
   "cell_type": "markdown",
   "metadata": {},
   "source": [
    "---\n",
    "---\n",
    "---"
   ]
  },
  {
   "cell_type": "code",
   "execution_count": null,
   "metadata": {},
   "outputs": [],
   "source": []
  },
  {
   "cell_type": "code",
   "execution_count": null,
   "metadata": {},
   "outputs": [],
   "source": []
  },
  {
   "cell_type": "markdown",
   "metadata": {},
   "source": [
    "----\n"
   ]
  }
 ],
 "metadata": {
  "kernelspec": {
   "display_name": "Python 3",
   "language": "python",
   "name": "python3"
  },
  "language_info": {
   "codemirror_mode": {
    "name": "ipython",
    "version": 3
   },
   "file_extension": ".py",
   "mimetype": "text/x-python",
   "name": "python",
   "nbconvert_exporter": "python",
   "pygments_lexer": "ipython3",
   "version": "3.11.2"
  }
 },
 "nbformat": 4,
 "nbformat_minor": 2
}
